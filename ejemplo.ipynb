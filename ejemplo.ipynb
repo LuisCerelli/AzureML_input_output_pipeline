{
 "cells": [
  {
   "cell_type": "code",
   "execution_count": null,
   "metadata": {},
   "outputs": [],
   "source": [
    "from azure.ai.ml import Input, Output\n",
    "from azure.ai.ml.dsl import pipeline\n",
    "from azure.ai.ml.entities import CommandComponent\n",
    "\n",
    "# Definir el input y output como carpetas URI\n",
    "input_data = Input(type=\"uri_folder\", path=\"azureml://datastores/ejemplo\")\n",
    "processed_data = Output(type=\"uri_folder\")\n",
    "model_output = Output(type=\"uri_folder\")\n",
    "\n",
    "# Definir componentes (pasos del pipeline)\n",
    "prepare_data_component = CommandComponent(\n",
    "    name=\"prepare_data\",\n",
    "    inputs={\"raw_data\": input_data},\n",
    "    outputs={\"processed_data\": processed_data},\n",
    "    command=\"python prepare_data.py --raw_data ${{inputs.raw_data}} --processed_data ${{outputs.processed_data}}\",\n",
    ")\n",
    "\n",
    "train_model_component = CommandComponent(\n",
    "    name=\"train_model\",\n",
    "    inputs={\"training_data\": processed_data},\n",
    "    outputs={\"trained_model\": model_output},\n",
    "    command=\"python train_model.py --training_data ${{inputs.training_data}} --trained_model ${{outputs.trained_model}}\",\n",
    ")\n",
    "\n",
    "# Definir el pipeline completo\n",
    "@pipeline(name=\"data_processing_training_pipeline\")\n",
    "def my_pipeline():\n",
    "    prepare_data_node = prepare_data_component(raw_data=input_data)\n",
    "    train_model_node = train_model_component(training_data=prepare_data_node.outputs.processed_data)\n",
    "    return {\"model_output\": train_model_node.outputs.trained_model}\n",
    "\n",
    "# Compilar el pipeline\n",
    "pipeline_instance = my_pipeline()\n",
    "pipeline_instance.submit(experiment_name=\"training_pipeline_example\")\n"
   ]
  }
 ],
 "metadata": {
  "kernelspec": {
   "display_name": "Python 3",
   "language": "python",
   "name": "python3"
  },
  "language_info": {
   "codemirror_mode": {
    "name": "ipython",
    "version": 3
   },
   "file_extension": ".py",
   "mimetype": "text/x-python",
   "name": "python",
   "nbconvert_exporter": "python",
   "pygments_lexer": "ipython3",
   "version": "3.12.3"
  }
 },
 "nbformat": 4,
 "nbformat_minor": 2
}
